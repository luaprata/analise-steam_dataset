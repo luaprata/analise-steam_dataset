{
 "cells": [
  {
   "cell_type": "code",
   "execution_count": 1,
   "id": "1bacf281-5d18-4921-b434-ef8f8cc9d79d",
   "metadata": {},
   "outputs": [],
   "source": [
    "import pandas as pd\n",
    "\n",
    "df = pd.read_csv('../dataset/games_march2025_full.csv')\n",
    "\n",
    "# Converter release_date para datetime\n",
    "df['release_date'] = pd.to_datetime(df['release_date'], errors='coerce')\n",
    "\n",
    "# Remove linhas onde 'name' é nulo\n",
    "df = df.dropna(subset=['name'])\n",
    "\n",
    "# Filtra apenas lançamentos após 2021\n",
    "df = df[df['release_date'].dt.year >= 2021]\n",
    "\n",
    "# Salvar em formato CSV\n",
    "df.to_csv('../dataset/games_march2025_clean.csv', index=False)\n",
    "\n",
    "# Salvar em formato parquet compactado\n",
    "df.to_parquet('../dataset/games_march2025_clean.parquet', compression='gzip', index=False)\n",
    "\n"
   ]
  }
 ],
 "metadata": {
  "kernelspec": {
   "display_name": "Python 3",
   "language": "python",
   "name": "python3"
  },
  "language_info": {
   "codemirror_mode": {
    "name": "ipython",
    "version": 3
   },
   "file_extension": ".py",
   "mimetype": "text/x-python",
   "name": "python",
   "nbconvert_exporter": "python",
   "pygments_lexer": "ipython3",
   "version": "3.12.3"
  }
 },
 "nbformat": 4,
 "nbformat_minor": 5
}
